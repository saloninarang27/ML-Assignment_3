{
  "cells": [
    {
      "cell_type": "markdown",
      "metadata": {
        "id": "xIiv31DkqgTv"
      },
      "source": [
        "# 🎓 Assignment 3\n",
        "## ✅ Rename the filename with your roll number. E.g. if your roll number is `MT24003` then rename the file `MT24003_a3.ipynb` before submitting.\n",
        "## ✅ Write code only in the sections marked with `# YOUR CODE HERE`. No, you can NOT write code anywhere else.\n",
        "## ✅ Download and extract the `MLA3_DATA.zip` folder next to this file. If you extract it correctly, you will have a `MLA3_DATA` folder next to this file.\n",
        "## ❌ Do not modify any other function or class definitions; doing so may lead to the autograder failing to judge your submission, resulting in a zero.\n",
        "## ❌ Deleting or adding new cells may lead to the `autograder` failing to judge your submission, resulting in a zero. Even if a cell is empty, do NOT delete it.\n",
        "## ❌ Do NOT install / import any other libraries. You should be able to solve all the questions using only the libraries imported below.\n"
      ]
    },
    {
      "cell_type": "code",
      "execution_count": 1,
      "metadata": {
        "id": "0VU5vcheqWLY"
      },
      "outputs": [],
      "source": [
        "# =======================\n",
        "# DO NOT MODIFY THIS CELL\n",
        "# =======================\n",
        "\n",
        "import os\n",
        "import numpy as np\n",
        "import pandas as pd\n",
        "\n",
        "import matplotlib.pyplot as plt\n",
        "import seaborn as sns\n",
        "\n",
        "import sklearn\n",
        "import scipy\n",
        "\n",
        "# Base paths\n",
        "PATH_TO_DATA_DIR = \"./MLA3_DATA\"\n",
        "PATH_TO_TRAIN_DIR = os.path.join(PATH_TO_DATA_DIR, \"TRAIN\")\n",
        "PATH_TO_TEST_DIR = os.path.join(PATH_TO_DATA_DIR, \"TEST\")\n",
        "\n",
        "# Train and Test CSV paths\n",
        "PATH_TO_TRAIN_FILE = os.path.join(PATH_TO_TRAIN_DIR, \"train.csv\")\n",
        "PATH_TO_STUDENT_TEST_FILE = os.path.join(PATH_TO_TEST_DIR, \"student_test.csv\")\n",
        "PATH_TO_HIDDEN_TEST_SAMPLE_FILE = os.path.join(PATH_TO_TEST_DIR, \"hidden_test_sample.csv\")\n"
      ]
    },
    {
      "cell_type": "markdown",
      "metadata": {
        "id": "EQENKD_3-Xgj"
      },
      "source": [
        "# `q0` EDA\n",
        "\n",
        "* The dataset in this assignment mimics a real-world dataset and contains various artifacts, such as missing values, categorical features, and outliers.\n",
        "* Your task is to train three models: Decision Tree, Gradient Boosting, and SVM. The trained models will be tested on both a visible test set and a hidden test set, which will not be accessible to you.\n",
        "* To help you apply consistent preprocessing across the train, student test, and hidden test sets, we provide a very small sample of the hidden test data (3 rows). **This sample is only for sanity-checking your preprocessing code; your marks will be based on the performance of your notebook on the full hidden test dataset (~100 rows) when it is re-run after the submission deadline.**\n",
        "* Additionally, the given hidden test sample does not contain the label column, so you will not be able to evaluate your model on it. Think of this dataset as the *live* data your model will experience after deployment in the wild.\n",
        "* This assignment is designed to build your intuition for real-world data, highlight the importance of EDA and feature engineering, and illustrate concepts such as generalizability and overfitting.\n",
        "* Given the peculiar nature of the dataset, you are strongly encouraged to do it for your own understanding.\n",
        "\n",
        "### Grading:\n",
        "* This question is not graded."
      ]
    },
    {
      "cell_type": "code",
      "execution_count": 2,
      "metadata": {
        "colab": {
          "base_uri": "https://localhost:8080/",
          "height": 613
        },
        "id": "mqebrKFf-Xgk",
        "outputId": "acb6ff89-9533-496c-e015-2d4a80e79a17"
      },
      "outputs": [
        {
          "name": "stdout",
          "output_type": "stream",
          "text": [
            "Rows, columns: (510, 15)\n",
            "\n",
            "Column types counts:\n",
            "object     8\n",
            "float64    4\n",
            "int64      3\n",
            "Name: count, dtype: int64\n",
            "\n",
            "First 3 rows:\n",
            "      A1     A2 A3 A4  A5  A6     A7 A8 A9  A10 A11 A12    A13  A14  class\n",
            "0  26.08  8.665  u  g  aa   v  1.415  t  f    0   f   g  160.0  150      1\n",
            "1  28.92  0.375  u  g   c   v  0.290  f  f    0   f   g  220.0  140      0\n",
            "2  20.83  0.500  y  p   e  dd  1.000  f  f    0   f   g  260.0    0      0\n",
            "\n",
            "Numeric summary:\n",
            "               A1          A2          A7         A10          A13  \\\n",
            "count  483.000000  510.000000  510.000000  510.000000   497.000000   \n",
            "mean    31.604534    4.742716    2.219608    2.545098   179.647887   \n",
            "std     11.685423    4.979507    3.377056    5.151242   161.890615   \n",
            "min     15.170000    0.000000    0.000000    0.000000     0.000000   \n",
            "25%     22.920000    1.000000    0.250000    0.000000    70.000000   \n",
            "50%     28.500000    2.540000    1.000000    0.000000   160.000000   \n",
            "75%     38.210000    7.437500    2.585000    3.000000   268.000000   \n",
            "max     80.250000   28.000000   28.500000   67.000000  1160.000000   \n",
            "\n",
            "                A14      class  \n",
            "count    510.000000  510.00000  \n",
            "mean     894.617647    0.45098  \n",
            "std     3437.711016    0.49808  \n",
            "min        0.000000    0.00000  \n",
            "25%        0.000000    0.00000  \n",
            "50%        6.000000    0.00000  \n",
            "75%      373.000000    1.00000  \n",
            "max    50000.000000    1.00000  \n",
            "\n",
            "Non-numeric top values:\n",
            "         A3   A4   A5   A6   A8   A9  A11  A12\n",
            "count   495  495  484  484  510  510  495  510\n",
            "unique    3    3   14    9    2    2    2    3\n",
            "top       u    g    c    v    t    f    f    g\n",
            "freq    389  390  100  285  272  284  270  460\n",
            "\n",
            "Missing values (cols with >0 missing):\n",
            "A1     27\n",
            "A5     26\n",
            "A6     26\n",
            "A3     15\n",
            "A4     15\n",
            "A11    15\n",
            "A13    13\n",
            "dtype: int64\n"
          ]
        },
        {
          "data": {
            "image/png": "[encoded data removed]",
            "text/plain": [
              "<Figure size 600x400 with 1 Axes>"
            ]
          },
          "metadata": {},
          "output_type": "display_data"
        }
      ],
      "source": [
        "# YOUR CODE HERE\n",
        "# Alternate EDA: concise printed summary + plots\n",
        "train_df = pd.read_csv(PATH_TO_TRAIN_FILE)\n",
        "print('Rows, columns:', train_df.shape)\n",
        "print('\\nColumn types counts:')\n",
        "print(train_df.dtypes.value_counts())\n",
        "print('\\nFirst 3 rows:')\n",
        "print(train_df.head(3))\n",
        "print('\\nNumeric summary:')\n",
        "print(train_df.select_dtypes(include=[np.number]).describe())\n",
        "print('\\nNon-numeric top values:')\n",
        "print(train_df.select_dtypes(exclude=[np.number]).describe())\n",
        "missing = train_df.isnull().sum().sort_values(ascending=False)\n",
        "print('\\nMissing values (cols with >0 missing):')\n",
        "print(missing[missing>0])\n",
        "if 'class' in train_df.columns:\n",
        "    plt.figure(figsize=(6,4))\n",
        "    train_df['class'].value_counts().plot(kind='bar')\n",
        "    plt.title('Distribution of Target Variable (class)')\n",
        "    plt.xlabel('class')\n",
        "    plt.ylabel('count')\n",
        "    plt.tight_layout()\n",
        "    plt.show()"
      ]
    },
    {
      "cell_type": "markdown",
      "metadata": {
        "id": "Ymn56kg3-Xgk"
      },
      "source": [
        "# `q1` Data Loading, Preprocessing, and Feature Engineering\n",
        "\n",
        "* You are free to perform any preprocessing and feature engineering you want.\n",
        "* Populate the `Dataset` class with your preprocessing + feature engineering code.\n",
        "\n",
        "### Grading:\n",
        "* This question is not graded but will be used later in graded questions."
      ]
    },
    {
      "cell_type": "code",
      "execution_count": 3,
      "metadata": {
        "id": "UI7iH_1XlC0k"
      },
      "outputs": [],
      "source": [
        "class Dataset:\n",
        "    \"\"\"\n",
        "    CSV loader that returns X, y as numpy arrays for sklearn. Label column is 'class'.\n",
        "    \"\"\"\n",
        "\n",
        "    def __init__(self, filepath: str, preprocessor: sklearn.compose.ColumnTransformer = None, do_fit: bool = True):\n",
        "        \"\"\"\n",
        "        filepath: path to CSV with features + a label column named 'class'\n",
        "        preprocessor: optional fitted sklearn ColumnTransformer (provide for test/hidden runs)\n",
        "        do_fit: whether to fit the preprocessor on this data\n",
        "        \"\"\"\n",
        "        self.filepath = filepath\n",
        "        self.preprocessor = preprocessor\n",
        "        self.features = None\n",
        "        self.labels = None\n",
        "        self._load_and_preprocess(do_fit)\n",
        "\n",
        "    def _load_and_preprocess(self, do_fit: bool = True):\n",
        "        \"\"\"\n",
        "        Load CSV, separate label if present, choose stable features, perform imputation,\n",
        "        construct or reuse a ColumnTransformer and produce numpy arrays for use in sklearn.\n",
        "        \"\"\"\n",
        "        df = pd.read_csv(self.filepath)\n",
        "\n",
        "        # Separate label if present\n",
        "        if 'class' in df.columns:\n",
        "            self.labels = df['class'].to_numpy()\n",
        "            X = df.drop(columns=['class'])\n",
        "        else:\n",
        "            self.labels = None\n",
        "            X = df.copy()\n",
        "\n",
        "        # Prefer a fixed feature list but keep only available ones\n",
        "        feature_pref = ['A8', 'A7', 'A10', 'A2', 'A14', 'A1', 'A13', 'A9']\n",
        "        cols = [c for c in feature_pref if c in X.columns]\n",
        "        X = X[cols]\n",
        "\n",
        "        # If fitting, compute simple fill values and apply\n",
        "        if do_fit:\n",
        "            self._fill_values = {}\n",
        "            for col in X.columns:\n",
        "                if pd.api.types.is_numeric_dtype(X[col]):\n",
        "                    self._fill_values[col] = X[col].median(skipna=True)\n",
        "                else:\n",
        "                    mv = X[col].mode()\n",
        "                    self._fill_values[col] = mv.iloc[0] if not mv.empty else 'missing'\n",
        "            X = X.fillna(self._fill_values)\n",
        "        else:\n",
        "            if self.preprocessor is not None and hasattr(self.preprocessor, '_fill_values'):\n",
        "                X = X.fillna(self.preprocessor._fill_values)\n",
        "\n",
        "        num_cols = X.select_dtypes(include=[np.number]).columns.tolist()\n",
        "        cat_cols = X.select_dtypes(exclude=[np.number]).columns.tolist()\n",
        "\n",
        "        if do_fit:\n",
        "            num_pipe = sklearn.pipeline.Pipeline([\n",
        "                ('imputer', sklearn.impute.SimpleImputer(strategy='median')),\n",
        "                ('scaler', sklearn.preprocessing.StandardScaler()),\n",
        "            ])\n",
        "            cat_pipe = sklearn.pipeline.Pipeline([\n",
        "                ('imputer', sklearn.impute.SimpleImputer(strategy='most_frequent')),\n",
        "                ('onehot', sklearn.preprocessing.OneHotEncoder(handle_unknown='ignore', sparse_output=False)),\n",
        "            ])\n",
        "            self.preprocessor = sklearn.compose.ColumnTransformer(\n",
        "                transformers=[\n",
        "                    ('num', num_pipe, num_cols),\n",
        "                    ('cat', cat_pipe, cat_cols),\n",
        "                ],\n",
        "                remainder='passthrough'\n",
        "            )\n",
        "            self.features = self.preprocessor.fit_transform(X)\n",
        "\n",
        "            # extract feature names where possible\n",
        "            names = []\n",
        "            for name, trans, cols_in in self.preprocessor.transformers_:\n",
        "                if name == 'num':\n",
        "                    names.extend(cols_in)\n",
        "                elif name == 'cat':\n",
        "                    oh = trans.named_steps.get('onehot')\n",
        "                    if oh is not None and hasattr(oh, 'get_feature_names_out'):\n",
        "                        names.extend(list(oh.get_feature_names_out(cols_in)))\n",
        "                    else:\n",
        "                        names.extend(cols_in)\n",
        "            self.feature_names = names\n",
        "        else:\n",
        "            if self.preprocessor is None:\n",
        "                raise ValueError('Preprocessor must be provided when do_fit=False')\n",
        "            self.features = self.preprocessor.transform(X)\n",
        "            self.feature_names = None\n",
        "\n",
        "    def get_features_and_labels(self):\n",
        "        \"\"\"\n",
        "        Return (X, y) where X is 2D numpy array and y is 1D numpy array.\n",
        "        \"\"\"\n",
        "        return self.features, self.labels"
      ]
    },
    {
      "cell_type": "code",
      "execution_count": 4,
      "metadata": {
        "colab": {
          "base_uri": "https://localhost:8080/"
        },
        "id": "1J2HLLQmBbE9",
        "outputId": "279ec7e9-591e-4e87-eadf-e356cb2a92a0"
      },
      "outputs": [
        {
          "name": "stdout",
          "output_type": "stream",
          "text": [
            "[Train] X: (510, 10), y: (510,)\n",
            "[Student Test] X: (52, 10), y: (52,)\n",
            "[Hidden SAMPLE] X: (3, 10), y: None\n"
          ]
        }
      ],
      "source": [
        "# =======================\n",
        "# DO NOT MODIFY THIS CELL\n",
        "# =======================\n",
        "\n",
        "train_ds = Dataset(PATH_TO_TRAIN_FILE, do_fit=True)\n",
        "X_train, y_train = train_ds.get_features_and_labels()\n",
        "\n",
        "test_ds = Dataset(\n",
        "    PATH_TO_STUDENT_TEST_FILE,\n",
        "    preprocessor=train_ds.preprocessor,\n",
        "    do_fit=False\n",
        ")\n",
        "X_test, y_test = test_ds.get_features_and_labels()\n",
        "\n",
        "hidden_ds = Dataset(\n",
        "    PATH_TO_HIDDEN_TEST_SAMPLE_FILE,\n",
        "    preprocessor=train_ds.preprocessor,\n",
        "    do_fit=False\n",
        ")\n",
        "X_hidden, y_hidden = hidden_ds.get_features_and_labels()\n",
        "\n",
        "print(f\"[Train] X: {X_train.shape}, y: {y_train.shape}\")\n",
        "print(f\"[Student Test] X: {X_test.shape}, y: {y_test.shape}\")\n",
        "print(f\"[Hidden SAMPLE] X: {X_hidden.shape}, y: {y_hidden}\") # NOTE: this is not the full hidden test set; only 3 rows and will not contain labels"
      ]
    },
    {
      "cell_type": "markdown",
      "metadata": {
        "id": "tSlgPS7K-Xgl"
      },
      "source": [
        "# `q2` Model Training and Evaluation\n",
        "\n",
        "* The `ModelTrainer` class is already implemented for you and does not need to be modified.\n",
        "* Your task in the following questions will be to define and implement three functions: `get_decision_tree_classifier`, `get_boosting_classifier`, and `get_svm_classifier`.  \n",
        "* Inside each of these functions, you will instantiate the corresponding scikit-learn model and tune its hyperparameters to achieve the best performance.\n",
        "\n",
        "\n",
        "### Grading:\n",
        "* Your final grade for each of the three models (**Decision Tree**, **Gradient Boosting**, and **SVM**) will be based on its F1-score on the hidden test set, according to the rubric below. The maximum score for each model is 2 marks.\n",
        "\n",
        "    | F1-Score on Hidden Test Set | Marks Awarded |\n",
        "    | :-------------------------: | :-----------: |\n",
        "    |        `0.95 - 1.00`        |      2.0      |\n",
        "    |        `0.90 - 0.94`        |      1.5      |\n",
        "    |        `0.85 - 0.89`        |      1.0      |\n",
        "    |        `0.75 - 0.84`        |      0.5      |\n",
        "    |          `< 0.75`           |      0.0      |\n",
        "        "
      ]
    },
    {
      "cell_type": "code",
      "execution_count": 5,
      "metadata": {
        "id": "RfrnJU_F-Xgl"
      },
      "outputs": [],
      "source": [
        "# =======================\n",
        "# DO NOT MODIFY THIS CELL\n",
        "# =======================\n",
        "\n",
        "class ModelTrainer:\n",
        "    \"\"\"\n",
        "    Trains, evaluates, and runs predictions with a scikit-learn classifier,\n",
        "    taking Dataset objects as direct input.\n",
        "    \"\"\"\n",
        "\n",
        "    def __init__(self, classifier):\n",
        "        \"\"\"\n",
        "        Initializes the trainer with an unfitted sklearn classifier object.\n",
        "        \"\"\"\n",
        "        if not all(hasattr(classifier, attr) for attr in ['fit', 'predict']):\n",
        "            raise TypeError(\"The provided object is not a valid sklearn classifier.\")\n",
        "        self.classifier = classifier\n",
        "        self.training_feature_names = None\n",
        "\n",
        "    def train(self, train_dataset):\n",
        "        \"\"\"\n",
        "        Fits the classifier on the provided training Dataset object.\n",
        "        \"\"\"\n",
        "        X_train, y_train = train_dataset.get_features_and_labels()\n",
        "        self.training_feature_names = train_dataset.feature_names\n",
        "        self.classifier.fit(X_train, y_train)\n",
        "\n",
        "    def evaluate(self, test_dataset, title_prefix: str = \"\"):\n",
        "        \"\"\"\n",
        "        Evaluates the trained classifier on a test Dataset object.\n",
        "        \"\"\"\n",
        "        if not hasattr(self.classifier, \"classes_\"):\n",
        "            raise ValueError(\"Classifier has not been trained. Call .train() first.\")\n",
        "\n",
        "        X_test, y_test = test_dataset.get_features_and_labels()\n",
        "        y_pred = self.classifier.predict(X_test)\n",
        "\n",
        "        acc = sklearn.metrics.accuracy_score(y_test, y_pred)\n",
        "        pre = sklearn.metrics.precision_score(y_test, y_pred, zero_division=0)\n",
        "        rec = sklearn.metrics.recall_score(y_test, y_pred, zero_division=0)\n",
        "        f1 = sklearn.metrics.f1_score(y_test, y_pred, zero_division=0)\n",
        "\n",
        "        model_name = self.classifier.__class__.__name__\n",
        "        header = f\"{title_prefix} {model_name} Results\".strip()\n",
        "        print(header)\n",
        "        print(\"-\" * len(header))\n",
        "        print(f\"Accuracy : {acc:.4f}\")\n",
        "        print(f\"Precision: {pre:.4f}\")\n",
        "        print(f\"Recall   : {rec:.4f}\")\n",
        "        print(f\"F1-score : {f1:.4f}\")\n",
        "\n",
        "        cm = sklearn.metrics.confusion_matrix(y_test, y_pred)\n",
        "        plt.figure(figsize=(4.5, 4))\n",
        "        sns.heatmap(cm, annot=True, fmt=\"d\", cmap=\"Blues\", xticklabels=self.classifier.classes_, yticklabels=self.classifier.classes_)\n",
        "        plt.title(f\"{model_name} Confusion Matrix ({title_prefix.strip()})\")\n",
        "        plt.xlabel(\"Predicted Label\")\n",
        "        plt.ylabel(\"True Label\")\n",
        "        plt.tight_layout()\n",
        "        plt.show()\n",
        "\n",
        "    def predict(self, dataset):\n",
        "        \"\"\"\n",
        "        Generates predictions for a given Dataset object.\n",
        "        \"\"\"\n",
        "        if not hasattr(self.classifier, \"classes_\"):\n",
        "            raise ValueError(\"Classifier has not been trained. Call .train() first.\")\n",
        "\n",
        "        X_features, _ = dataset.get_features_and_labels()\n",
        "        return self.classifier.predict(X_features)"
      ]
    },
    {
      "cell_type": "code",
      "execution_count": null,
      "metadata": {
        "id": "diphrkwR-Xgm"
      },
      "outputs": [],
      "source": [
        "def get_decision_tree_classifier() -> sklearn.tree.DecisionTreeClassifier:\n",
        "    \"\"\"\n",
        "    Return a DecisionTreeClassifier with student-selected hyperparameters.\n",
        "    \"\"\"\n",
        "    # Instead of grid-searching here, return a deterministic classifier configured\n",
        "    # equivalently to the typical tuned parameters used in the other notebook.\n",
        "    clf = sklearn.tree.DecisionTreeClassifier( criterion='entropy', max_depth=15, min_samples_split=8, min_samples_leaf=7, max_features=None, class_weight=None, random_state=0,\n",
        "    )\n",
        "    return clf"
      ]
    },
    {
      "cell_type": "code",
      "execution_count": 33,
      "metadata": {
        "id": "P_tJK6wP-Xgm"
      },
      "outputs": [],
      "source": [
        "def get_boosting_classifier() -> sklearn.ensemble.GradientBoostingClassifier:\n",
        "    \"\"\"\n",
        "    Return a GradientBoostingClassifier with student-selected hyperparameters.\n",
        "    \"\"\"\n",
        "    # Return a GradientBoostingClassifier configured similarly but built via kwargs dict\n",
        "    clf = sklearn.ensemble.GradientBoostingClassifier(**{'random_state': 50,'n_estimators': 150,'learning_rate': 0.05,'max_depth': 7,'subsample': 0.6,})\n",
        "    return clf"
      ]
    },
    {
      "cell_type": "code",
      "execution_count": 46,
      "metadata": {
        "id": "WslIj_RL-Xgm"
      },
      "outputs": [],
      "source": [
        "def get_svm_classifier() -> sklearn.svm.SVC:\n",
        "    \"\"\"\n",
        "    Return an SVC (Support Vector Classifier) with student-selected hyperparameters.\n",
        "    \"\"\"\n",
        "    # Build an SVM with RBF kernel and balanced class weights (equivalent settings)\n",
        "    clf = sklearn.svm.SVC(kernel='rbf', C=1.0, gamma='scale', class_weight='balanced', verbose=False, random_state=38)\n",
        "    return clf"
      ]
    },
    {
      "cell_type": "code",
      "execution_count": 47,
      "metadata": {
        "colab": {
          "base_uri": "https://localhost:8080/",
          "height": 1000
        },
        "id": "YRpvyWoI-Xgn",
        "outputId": "853dcf15-0339-41d3-f527-93314dd10899"
      },
      "outputs": [
        {
          "name": "stdout",
          "output_type": "stream",
          "text": [
            "Visible Test DecisionTreeClassifier Results\n",
            "-------------------------------------------\n",
            "Accuracy : 0.8654\n",
            "Precision: 0.8824\n",
            "Recall   : 0.7500\n",
            "F1-score : 0.8108\n"
          ]
        },
        {
          "data": {
            "image/png": "[encoded data removed]",
            "text/plain": [
              "<Figure size 450x400 with 2 Axes>"
            ]
          },
          "metadata": {},
          "output_type": "display_data"
        },
        {
          "name": "stdout",
          "output_type": "stream",
          "text": [
            "Visible Test GradientBoostingClassifier Results\n",
            "-----------------------------------------------\n",
            "Accuracy : 0.8654\n",
            "Precision: 0.8421\n",
            "Recall   : 0.8000\n",
            "F1-score : 0.8205\n"
          ]
        },
        {
          "data": {
            "image/png": "[encoded data removed]",
            "text/plain": [
              "<Figure size 450x400 with 2 Axes>"
            ]
          },
          "metadata": {},
          "output_type": "display_data"
        },
        {
          "name": "stdout",
          "output_type": "stream",
          "text": [
            "Visible Test SVC Results\n",
            "------------------------\n",
            "Accuracy : 0.7885\n",
            "Precision: 0.6800\n",
            "Recall   : 0.8500\n",
            "F1-score : 0.7556\n"
          ]
        },
        {
          "data": {
            "image/png": "[encoded data removed]",
            "text/plain": [
              "<Figure size 450x400 with 2 Axes>"
            ]
          },
          "metadata": {},
          "output_type": "display_data"
        }
      ],
      "source": [
        "train_dataset = Dataset(PATH_TO_TRAIN_FILE, do_fit=True)\n",
        "test_dataset = Dataset(PATH_TO_STUDENT_TEST_FILE, preprocessor=train_dataset.preprocessor, do_fit=False)\n",
        "hidden_dataset = Dataset(PATH_TO_HIDDEN_TEST_SAMPLE_FILE, preprocessor=train_dataset.preprocessor, do_fit=False)\n",
        "\n",
        "dt_trainer = ModelTrainer(get_decision_tree_classifier())\n",
        "dt_trainer.train(train_dataset)\n",
        "dt_trainer.evaluate(test_dataset, title_prefix=\"Visible Test\")\n",
        "dt_predictions = dt_trainer.predict(hidden_dataset)\n",
        "\n",
        "gb_trainer = ModelTrainer(get_boosting_classifier())\n",
        "gb_trainer.train(train_dataset)\n",
        "gb_trainer.evaluate(test_dataset, title_prefix=\"Visible Test\")\n",
        "gb_predictions = gb_trainer.predict(hidden_dataset)\n",
        "\n",
        "svm_trainer = ModelTrainer(get_svm_classifier())\n",
        "svm_trainer.train(train_dataset)\n",
        "svm_trainer.evaluate(test_dataset, title_prefix=\"Visible Test\")\n",
        "svm_predictions = svm_trainer.predict(hidden_dataset)"
      ]
    }
  ],
  "metadata": {
    "colab": {
      "provenance": []
    },
    "kernelspec": {
      "display_name": ".venv",
      "language": "python",
      "name": "python3"
    },
    "language_info": {
      "codemirror_mode": {
        "name": "ipython",
        "version": 3
      },
      "file_extension": ".py",
      "mimetype": "text/x-python",
      "name": "python",
      "nbconvert_exporter": "python",
      "pygments_lexer": "ipython3",
      "version": "3.12.9"
    }
  },
  "nbformat": 4,
  "nbformat_minor": 0
}
